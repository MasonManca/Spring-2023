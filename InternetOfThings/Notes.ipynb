{
 "cells": [
  {
   "attachments": {},
   "cell_type": "markdown",
   "metadata": {},
   "source": [
    "## Mason Manca\n",
    "## <center>Internet Of Things<center>\n",
    "## Prof: Zhang Yanping"
   ]
  },
  {
   "attachments": {},
   "cell_type": "markdown",
   "metadata": {},
   "source": [
    "#### Hands-on Project:\n",
    "- 3 - 4 checkpoints\n",
    "- code due by week 8"
   ]
  }
 ],
 "metadata": {
  "language_info": {
   "name": "python"
  },
  "orig_nbformat": 4
 },
 "nbformat": 4,
 "nbformat_minor": 2
}
