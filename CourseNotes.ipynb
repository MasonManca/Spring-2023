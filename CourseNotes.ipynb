{
 "cells": [
  {
   "attachments": {},
   "cell_type": "markdown",
   "metadata": {},
   "source": [
    "## Mason Manca\n",
    "# <center>Course Schedule 2023 Spring <center>"
   ]
  },
  {
   "attachments": {},
   "cell_type": "markdown",
   "metadata": {},
   "source": [
    "## Internet of Things: (Mon/Weds/Fri) at 1:10\n",
    "- Professor: Zhang Yanping \n",
    "  - Email: zhangy@gonzaga.edu\n",
    "#### Office Hours: Mon: 3:00-3:30 ; Tue: 12:30 - 2:30 pm ; Weds: 3:00 - 4:30 pm\n",
    "--------------------------------------------------------------------------------\n"
   ]
  },
  {
   "attachments": {},
   "cell_type": "markdown",
   "metadata": {},
   "source": [
    "## Philosphy, Christianity and Science (Phil 432/446) Tues/Thurs: 9:25 am\n",
    "- Prof: David Calhoun\n",
    "  - Email: calhoun#gonzaga.edu\n",
    "#### Office Hours: Weds: 10am - 12 and 1:30 - 3:30 pm.\n",
    "- Zoom Office Meeting ID: :\t956\t1791\t8728;\tlink:\thttps://gonzaga.zoom.us/j/95617918728\n",
    "\n"
   ]
  },
  {
   "attachments": {},
   "cell_type": "markdown",
   "metadata": {},
   "source": [
    "## MicroEconomics (ECON 201) Tues/Thurs: 10:50 - 12:05\n",
    "- Prof: Erica Johnson\n",
    "  - Email: johnsone@gonzaga.edu\n",
    "  - Phone: (509)-313-7026\n",
    "#### Office Hours: Mon 9:30-12pm & Weds: 10-11:30am"
   ]
  }
 ],
 "metadata": {
  "kernelspec": {
   "display_name": "Python 3",
   "language": "python",
   "name": "python3"
  },
  "language_info": {
   "name": "python",
   "version": "3.10.8 (main, Oct 13 2022, 10:18:28) [Clang 13.0.0 (clang-1300.0.29.30)]"
  },
  "orig_nbformat": 4,
  "vscode": {
   "interpreter": {
    "hash": "aee8b7b246df8f9039afb4144a1f6fd8d2ca17a180786b69acc140d282b71a49"
   }
  }
 },
 "nbformat": 4,
 "nbformat_minor": 2
}
